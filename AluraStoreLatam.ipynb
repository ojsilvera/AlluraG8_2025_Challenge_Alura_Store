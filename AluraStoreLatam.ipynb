{
  "cells": [
    {
      "cell_type": "markdown",
      "metadata": {
        "id": "RhEdWd9YUR6H"
      },
      "source": [
        "### Importación de datos\n",
        "\n"
      ]
    },
    {
      "cell_type": "code",
      "execution_count": 1,
      "metadata": {
        "colab": {
          "base_uri": "https://localhost:8080/",
          "height": 206
        },
        "id": "T3EvaeQ_INIL",
        "outputId": "e9c5efe1-82a3-43ab-e8d7-6d01e4fa3514"
      },
      "outputs": [
        {
          "data": {
            "text/html": [
              "<div>\n",
              "<style scoped>\n",
              "    .dataframe tbody tr th:only-of-type {\n",
              "        vertical-align: middle;\n",
              "    }\n",
              "\n",
              "    .dataframe tbody tr th {\n",
              "        vertical-align: top;\n",
              "    }\n",
              "\n",
              "    .dataframe thead th {\n",
              "        text-align: right;\n",
              "    }\n",
              "</style>\n",
              "<table border=\"1\" class=\"dataframe\">\n",
              "  <thead>\n",
              "    <tr style=\"text-align: right;\">\n",
              "      <th></th>\n",
              "      <th>Producto</th>\n",
              "      <th>Categoría del Producto</th>\n",
              "      <th>Precio</th>\n",
              "      <th>Costo de envío</th>\n",
              "      <th>Fecha de Compra</th>\n",
              "      <th>Vendedor</th>\n",
              "      <th>Lugar de Compra</th>\n",
              "      <th>Calificación</th>\n",
              "      <th>Método de pago</th>\n",
              "      <th>Cantidad de cuotas</th>\n",
              "      <th>lat</th>\n",
              "      <th>lon</th>\n",
              "    </tr>\n",
              "  </thead>\n",
              "  <tbody>\n",
              "    <tr>\n",
              "      <th>0</th>\n",
              "      <td>Asistente virtual</td>\n",
              "      <td>Electrónicos</td>\n",
              "      <td>164300.0</td>\n",
              "      <td>6900.0</td>\n",
              "      <td>16/01/2021</td>\n",
              "      <td>Pedro Gomez</td>\n",
              "      <td>Bogotá</td>\n",
              "      <td>4</td>\n",
              "      <td>Tarjeta de crédito</td>\n",
              "      <td>8</td>\n",
              "      <td>4.60971</td>\n",
              "      <td>-74.08175</td>\n",
              "    </tr>\n",
              "    <tr>\n",
              "      <th>1</th>\n",
              "      <td>Mesa de comedor</td>\n",
              "      <td>Muebles</td>\n",
              "      <td>192300.0</td>\n",
              "      <td>8400.0</td>\n",
              "      <td>18/05/2022</td>\n",
              "      <td>Beatriz Morales</td>\n",
              "      <td>Medellín</td>\n",
              "      <td>1</td>\n",
              "      <td>Tarjeta de crédito</td>\n",
              "      <td>4</td>\n",
              "      <td>6.25184</td>\n",
              "      <td>-75.56359</td>\n",
              "    </tr>\n",
              "    <tr>\n",
              "      <th>2</th>\n",
              "      <td>Juego de mesa</td>\n",
              "      <td>Juguetes</td>\n",
              "      <td>209600.0</td>\n",
              "      <td>15900.0</td>\n",
              "      <td>15/03/2021</td>\n",
              "      <td>Juan Fernandez</td>\n",
              "      <td>Cartagena</td>\n",
              "      <td>1</td>\n",
              "      <td>Tarjeta de crédito</td>\n",
              "      <td>1</td>\n",
              "      <td>10.39972</td>\n",
              "      <td>-75.51444</td>\n",
              "    </tr>\n",
              "    <tr>\n",
              "      <th>3</th>\n",
              "      <td>Microondas</td>\n",
              "      <td>Electrodomésticos</td>\n",
              "      <td>757500.0</td>\n",
              "      <td>41000.0</td>\n",
              "      <td>03/05/2022</td>\n",
              "      <td>Juan Fernandez</td>\n",
              "      <td>Cali</td>\n",
              "      <td>4</td>\n",
              "      <td>Nequi</td>\n",
              "      <td>1</td>\n",
              "      <td>3.43722</td>\n",
              "      <td>-76.52250</td>\n",
              "    </tr>\n",
              "    <tr>\n",
              "      <th>4</th>\n",
              "      <td>Silla de oficina</td>\n",
              "      <td>Muebles</td>\n",
              "      <td>335200.0</td>\n",
              "      <td>20200.0</td>\n",
              "      <td>07/11/2020</td>\n",
              "      <td>Maria Alfonso</td>\n",
              "      <td>Medellín</td>\n",
              "      <td>5</td>\n",
              "      <td>Nequi</td>\n",
              "      <td>1</td>\n",
              "      <td>6.25184</td>\n",
              "      <td>-75.56359</td>\n",
              "    </tr>\n",
              "  </tbody>\n",
              "</table>\n",
              "</div>"
            ],
            "text/plain": [
              "            Producto Categoría del Producto    Precio  Costo de envío  \\\n",
              "0  Asistente virtual           Electrónicos  164300.0          6900.0   \n",
              "1    Mesa de comedor                Muebles  192300.0          8400.0   \n",
              "2      Juego de mesa               Juguetes  209600.0         15900.0   \n",
              "3         Microondas      Electrodomésticos  757500.0         41000.0   \n",
              "4   Silla de oficina                Muebles  335200.0         20200.0   \n",
              "\n",
              "  Fecha de Compra         Vendedor Lugar de Compra  Calificación  \\\n",
              "0      16/01/2021      Pedro Gomez          Bogotá             4   \n",
              "1      18/05/2022  Beatriz Morales        Medellín             1   \n",
              "2      15/03/2021   Juan Fernandez       Cartagena             1   \n",
              "3      03/05/2022   Juan Fernandez            Cali             4   \n",
              "4      07/11/2020    Maria Alfonso        Medellín             5   \n",
              "\n",
              "       Método de pago  Cantidad de cuotas       lat       lon  \n",
              "0  Tarjeta de crédito                   8   4.60971 -74.08175  \n",
              "1  Tarjeta de crédito                   4   6.25184 -75.56359  \n",
              "2  Tarjeta de crédito                   1  10.39972 -75.51444  \n",
              "3               Nequi                   1   3.43722 -76.52250  \n",
              "4               Nequi                   1   6.25184 -75.56359  "
            ]
          },
          "execution_count": 1,
          "metadata": {},
          "output_type": "execute_result"
        }
      ],
      "source": [
        "import pandas as pd\n",
        "\n",
        "url = \"https://raw.githubusercontent.com/alura-es-cursos/challenge1-data-science-latam/refs/heads/main/base-de-datos-challenge1-latam/tienda_1%20.csv\"\n",
        "url2 = \"https://raw.githubusercontent.com/alura-es-cursos/challenge1-data-science-latam/refs/heads/main/base-de-datos-challenge1-latam/tienda_2.csv\"\n",
        "url3 = \"https://raw.githubusercontent.com/alura-es-cursos/challenge1-data-science-latam/refs/heads/main/base-de-datos-challenge1-latam/tienda_3.csv\"\n",
        "url4 = \"https://raw.githubusercontent.com/alura-es-cursos/challenge1-data-science-latam/refs/heads/main/base-de-datos-challenge1-latam/tienda_4.csv\"\n",
        "\n",
        "tienda = pd.read_csv(url)\n",
        "tienda2 = pd.read_csv(url2)\n",
        "tienda3 = pd.read_csv(url3)\n",
        "tienda4 = pd.read_csv(url4)\n",
        "\n",
        "tienda.head()"
      ]
    },
    {
      "cell_type": "markdown",
      "metadata": {},
      "source": [
        "# 1. Análisis de facturación\n",
        "\n"
      ]
    },
    {
      "cell_type": "code",
      "execution_count": 2,
      "metadata": {},
      "outputs": [
        {
          "name": "stdout",
          "output_type": "stream",
          "text": [
            "Ingreso total tienda 1: $1,150,880,400.00\n",
            "Ingreso total tienda 2: $1,116,343,500.00\n",
            "Ingreso total tienda 3: $1,098,019,600.00\n",
            "Ingreso total tienda 4: $1,038,375,700.00\n"
          ]
        }
      ],
      "source": [
        "ingresos_tienda = tienda['Precio'].sum()\n",
        "ingresos_tienda2 = tienda2['Precio'].sum()\n",
        "ingresos_tienda3 = tienda3['Precio'].sum()\n",
        "ingresos_tienda4 = tienda4['Precio'].sum()\n",
        "print(f'Ingreso total tienda 1: ${ingresos_tienda:,.2f}')\n",
        "print(f'Ingreso total tienda 2: ${ingresos_tienda2:,.2f}')\n",
        "print(f'Ingreso total tienda 3: ${ingresos_tienda3:,.2f}')\n",
        "print(f'Ingreso total tienda 4: ${ingresos_tienda4:,.2f}')"
      ]
    },
    {
      "cell_type": "markdown",
      "metadata": {},
      "source": [
        "# 2. Ventas por categoría"
      ]
    },
    {
      "cell_type": "code",
      "execution_count": null,
      "metadata": {},
      "outputs": [
        {
          "name": "stdout",
          "output_type": "stream",
          "text": [
            "    Categoría del Producto Ventas Formateadas\n",
            "3             Electrónicos     429,493,500.00\n",
            "2        Electrodomésticos     363,685,200.00\n",
            "7                  Muebles     187,633,700.00\n",
            "4   Instrumentos musicales      91,299,000.00\n",
            "1     Deportes y diversión      39,290,000.00\n",
            "5                 Juguetes      17,995,700.00\n",
            "0  Artículos para el hogar      12,698,400.00\n",
            "6                   Libros       8,784,900.00\n"
          ]
        }
      ],
      "source": [
        "#Agrupa las ventas por categoria tienda 1\n",
        "vtas_categoria_tienda = tienda.groupby('Categoría del Producto')['Precio'].sum().reset_index()\n",
        "\n",
        "#renombra la columna de precio a ventas para que sea mas descriptiva\n",
        "vtas_categoria_tienda.rename(columns={'Precio': 'Ventas'}, inplace=True)\n",
        "\n",
        "#formatea la columna de ventas para que tenga el formato de moneda y separador decimal\n",
        "vtas_categoria_tienda['Ventas Formateadas'] = vtas_categoria_tienda['Ventas'].apply(lambda x: f'{x:,.2f}')\n",
        "\n",
        "#ordena la tabla por ventas de mayor a menor\n",
        "vtasCat_Tienda1_sorter = vtas_categoria_tienda.sort_values(by='Ventas', ascending=False, inplace=False)\n",
        "\n",
        "#imprime la tabla de ventas por categoria\n",
        "print(vtasCat_Tienda1_sorter[['Categoría del Producto', 'Ventas Formateadas']])"
      ]
    },
    {
      "cell_type": "code",
      "execution_count": null,
      "metadata": {},
      "outputs": [
        {
          "name": "stdout",
          "output_type": "stream",
          "text": [
            "    Categoría del Producto Ventas Formateadas\n",
            "3             Electrónicos     410,831,100.00\n",
            "2        Electrodomésticos     348,567,800.00\n",
            "7                  Muebles     176,426,300.00\n",
            "4   Instrumentos musicales     104,990,300.00\n",
            "1     Deportes y diversión      34,744,500.00\n",
            "5                 Juguetes      15,945,400.00\n",
            "0  Artículos para el hogar      14,746,900.00\n",
            "6                   Libros      10,091,200.00\n"
          ]
        }
      ],
      "source": [
        "#Agrupa las ventas por categoria tienda 2\n",
        "vtas_categoria_tienda2 = tienda2.groupby('Categoría del Producto')['Precio'].sum().reset_index()\n",
        "\n",
        "#renombra la columna de precio a ventas para que sea mas descriptiva\n",
        "vtas_categoria_tienda2.rename(columns={'Precio': 'Ventas'}, inplace=True)\n",
        "\n",
        "#formatea la columna de ventas para que tenga el formato de moneda y separador decimal\n",
        "vtas_categoria_tienda2['Ventas Formateadas'] = vtas_categoria_tienda2['Ventas'].apply(lambda x: f'{x:,.2f}')\n",
        "\n",
        "#ordena la tabla por ventas de mayor a menor\n",
        "vtasCat_Tienda2_sorter = vtas_categoria_tienda2.sort_values(by='Ventas', ascending=False, inplace=False)\n",
        "\n",
        "#imprime la tabla de ventas por categoria\n",
        "print(vtasCat_Tienda2_sorter[['Categoría del Producto', 'Ventas Formateadas']])"
      ]
    },
    {
      "cell_type": "code",
      "execution_count": null,
      "metadata": {},
      "outputs": [
        {
          "name": "stdout",
          "output_type": "stream",
          "text": [
            "    Categoría del Producto Ventas Formateadas\n",
            "3             Electrónicos     410,775,800.00\n",
            "2        Electrodomésticos     329,237,900.00\n",
            "7                  Muebles     201,072,100.00\n",
            "4   Instrumentos musicales      77,380,900.00\n",
            "1     Deportes y diversión      35,593,100.00\n",
            "5                 Juguetes      19,401,100.00\n",
            "0  Artículos para el hogar      15,060,000.00\n",
            "6                   Libros       9,498,700.00\n"
          ]
        }
      ],
      "source": [
        "#Agrupa las ventas por categoria tienda 3\n",
        "vtas_categoria_tienda3 = tienda3.groupby('Categoría del Producto')['Precio'].sum().reset_index()\n",
        "\n",
        "#renombra la columna de precio a ventas para que sea mas descriptiva\n",
        "vtas_categoria_tienda3.rename(columns={'Precio': 'Ventas'}, inplace=True)\n",
        "\n",
        "#formatea la columna de ventas para que tenga el formato de moneda y separador decimal\n",
        "vtas_categoria_tienda3['Ventas Formateadas'] = vtas_categoria_tienda3['Ventas'].apply(lambda x: f'{x:,.2f}')\n",
        "\n",
        "#ordena la tabla por ventas de mayor a menor\n",
        "vtasCat_Tienda3_sorter = vtas_categoria_tienda3.sort_values(by='Ventas', ascending=False, inplace=False)\n",
        "\n",
        "#imprime la tabla de ventas por categoria\n",
        "print(vtasCat_Tienda3_sorter[['Categoría del Producto', 'Ventas Formateadas']])"
      ]
    },
    {
      "cell_type": "code",
      "execution_count": null,
      "metadata": {},
      "outputs": [
        {
          "name": "stdout",
          "output_type": "stream",
          "text": [
            "    Categoría del Producto Ventas Formateadas\n",
            "3             Electrónicos     409,476,100.00\n",
            "2        Electrodomésticos     283,260,200.00\n",
            "7                  Muebles     192,528,900.00\n",
            "4   Instrumentos musicales      75,102,400.00\n",
            "1     Deportes y diversión      33,350,100.00\n",
            "5                 Juguetes      20,262,200.00\n",
            "0  Artículos para el hogar      15,074,500.00\n",
            "6                   Libros       9,321,300.00\n"
          ]
        }
      ],
      "source": [
        "#Agrupa las ventas por categoria tienda 4\n",
        "vtas_categoria_tienda4 = tienda4.groupby('Categoría del Producto')['Precio'].sum().reset_index()\n",
        "\n",
        "#renombra la columna de precio a ventas para que sea mas descriptiva\n",
        "vtas_categoria_tienda4.rename(columns={'Precio': 'Ventas'}, inplace=True)\n",
        "\n",
        "#formatea la columna de ventas para que tenga el formato de moneda y separador decimal\n",
        "vtas_categoria_tienda4['Ventas Formateadas'] = vtas_categoria_tienda4['Ventas'].apply(lambda x: f'{x:,.2f}')\n",
        "\n",
        "#ordena la tabla por ventas de mayor a menor\n",
        "vtasCat_Tienda4_sorter = vtas_categoria_tienda4.sort_values(by='Ventas', ascending=False, inplace=False)\n",
        "\n",
        "#imprime la tabla de ventas por categoria\n",
        "print(vtasCat_Tienda4_sorter[['Categoría del Producto', 'Ventas Formateadas']])"
      ]
    },
    {
      "cell_type": "markdown",
      "metadata": {},
      "source": [
        "# 3. Calificación promedio de la tienda\n"
      ]
    },
    {
      "cell_type": "code",
      "execution_count": null,
      "metadata": {},
      "outputs": [
        {
          "name": "stdout",
          "output_type": "stream",
          "text": [
            "Promedio de valoracion tienda 1: 3.98\n"
          ]
        }
      ],
      "source": [
        "suma_vlciones_tienda = tienda['Calificación'].sum()\n",
        "vlcion_media_tienda = len(tienda['Calificación'])\n",
        "promedio_valoracion_tienda = suma_vlciones_tienda / vlcion_media_tienda\n",
        "print(f'Promedio de valoracion tienda: {promedio_valoracion_tienda:.2f}')"
      ]
    },
    {
      "cell_type": "markdown",
      "metadata": {},
      "source": [
        "# 4. Productos más y menos vendidos"
      ]
    },
    {
      "cell_type": "code",
      "execution_count": null,
      "metadata": {},
      "outputs": [
        {
          "name": "stdout",
          "output_type": "stream",
          "text": [
            "------------------------------------\n",
            "Top 10 productos mas vendidos Tienda 1\n",
            "                  Producto  count\n",
            "0               Microondas     60\n",
            "1            TV LED UHD 4K     60\n",
            "2                  Armario     60\n",
            "3         Secadora de ropa     58\n",
            "4            Mesa de noche     56\n",
            "5  Bloques de construcción     56\n",
            "6      Balón de baloncesto     55\n",
            "7                Bicicleta     54\n",
            "8             Vaso térmico     54\n",
            "9             Refrigerador     54\n",
            "------------------------------------\n",
            "Top 10 productos menos vendidos Tienda 1\n",
            "                  Producto  count\n",
            "0               Microondas     60\n",
            "1            TV LED UHD 4K     60\n",
            "2                  Armario     60\n",
            "3         Secadora de ropa     58\n",
            "4            Mesa de noche     56\n",
            "5  Bloques de construcción     56\n",
            "6      Balón de baloncesto     55\n",
            "7                Bicicleta     54\n",
            "8             Vaso térmico     54\n",
            "9             Refrigerador     54\n"
          ]
        }
      ],
      "source": [
        "ventas_productos_T1 = tienda['Producto'].value_counts().reset_index()\n",
        "top10_productos_T1 = ventas_productos_T1.head(10)\n",
        "topNmenos10_productos = ventas_productos_T1.tail(10)\n",
        "print('------------------------------------')\n",
        "print('Top 10 productos mas vendidos Tienda 1')\n",
        "print(top10_productos_T1)\n",
        "print('------------------------------------')\n",
        "print('Top 10 productos menos vendidos Tienda 1')\n",
        "print(topNmenos10_productos)"
      ]
    },
    {
      "cell_type": "code",
      "execution_count": null,
      "metadata": {},
      "outputs": [
        {
          "name": "stdout",
          "output_type": "stream",
          "text": [
            "------------------------------------\n",
            "Top 10 productos mas vendidos Tienda 2\n",
            "                    Producto  count\n",
            "0  Iniciando en programación     65\n",
            "1                 Microondas     62\n",
            "2                    Batería     61\n",
            "3          Guitarra acústica     58\n",
            "4                  Pandereta     58\n",
            "5           Secadora de ropa     57\n",
            "6                  Iphone 15     55\n",
            "7    Bloques de construcción     54\n",
            "8                    Armario     54\n",
            "9               Set de ollas     52\n",
            "------------------------------------\n",
            "Top 10 productos menos vendidos Tienda 2\n",
            "             Producto  count\n",
            "41     Dinosaurio Rex     42\n",
            "42       Celular ABXY     41\n",
            "43           Smart TV     40\n",
            "44         Cubertería     39\n",
            "45  Asistente virtual     38\n",
            "46        Auriculares     37\n",
            "47             Sillón     35\n",
            "48    Mesa de comedor     34\n",
            "49          Impresora     34\n",
            "50      Juego de mesa     32\n"
          ]
        }
      ],
      "source": [
        "ventas_productos_T2 = tienda2['Producto'].value_counts().reset_index()\n",
        "top10_productos_T2 = ventas_productos_T2.head(10)\n",
        "topNmenos10_productos_T2 = ventas_productos_T2.tail(10)\n",
        "print('------------------------------------')\n",
        "print('Top 10 productos mas vendidos Tienda 2')\n",
        "print(top10_productos_T2)\n",
        "print('------------------------------------')\n",
        "print('Top 10 productos menos vendidos Tienda 2')\n",
        "print(topNmenos10_productos_T2)"
      ]
    },
    {
      "cell_type": "code",
      "execution_count": null,
      "metadata": {},
      "outputs": [
        {
          "name": "stdout",
          "output_type": "stream",
          "text": [
            "------------------------------------\n",
            "Top 10 productos mas vendidos Tienda 3\n",
            "                    Producto  count\n",
            "0              Kit de bancas     57\n",
            "1            Mesa de comedor     56\n",
            "2                  Cama king     56\n",
            "3               Set de ollas     55\n",
            "4              Mesa de noche     55\n",
            "5                   Smart TV     54\n",
            "6                     Estufa     53\n",
            "7         Cuerda para saltar     53\n",
            "8        Modelado predictivo     53\n",
            "9  Carrito de control remoto     52\n",
            "------------------------------------\n",
            "Top 10 productos menos vendidos Tienda 3\n",
            "                     Producto  count\n",
            "41                 Cubertería     39\n",
            "42                Muñeca bebé     39\n",
            "43  Auriculares con micrófono     39\n",
            "44          Asistente virtual     39\n",
            "45               Vaso térmico     38\n",
            "46         Guitarra eléctrica     38\n",
            "47               Set de vasos     36\n",
            "48                    Mochila     36\n",
            "49                 Microondas     36\n",
            "50    Bloques de construcción     35\n"
          ]
        }
      ],
      "source": [
        "ventas_productos_T3 = tienda3['Producto'].value_counts().reset_index()\n",
        "top10_productos_T3 = ventas_productos_T3.head(10)\n",
        "topNmenos10_productos_T3 = ventas_productos_T3.tail(10)\n",
        "print('------------------------------------')\n",
        "print('Top 10 productos mas vendidos Tienda 3')\n",
        "print(top10_productos_T3)\n",
        "print('------------------------------------')\n",
        "print('Top 10 productos menos vendidos Tienda 3')\n",
        "print(topNmenos10_productos_T3)"
      ]
    },
    {
      "cell_type": "code",
      "execution_count": null,
      "metadata": {},
      "outputs": [
        {
          "name": "stdout",
          "output_type": "stream",
          "text": [
            "------------------------------------\n",
            "Top 10 productos mas vendidos Tienda 2\n",
            "                    Producto  count\n",
            "0                   Cama box     62\n",
            "1                 Cubertería     59\n",
            "2    Dashboards con Power BI     56\n",
            "3                  Cama king     56\n",
            "4  Carrito de control remoto     55\n",
            "5            Mesa de comedor     55\n",
            "6              Mesa de noche     55\n",
            "7                   Smart TV     54\n",
            "8    Bloques de construcción     54\n",
            "9                  Pandereta     52\n",
            "------------------------------------\n",
            "Top 10 productos menos vendidos Tienda 2\n",
            "                       Producto  count\n",
            "41             Silla de oficina     40\n",
            "42                 Celular ABXY     39\n",
            "43            Ajedrez de madera     39\n",
            "44                   Smartwatch     39\n",
            "45             Lavadora de ropa     38\n",
            "46                 Refrigerador     38\n",
            "47  Ciencia de datos con Python     38\n",
            "48            Guitarra acústica     37\n",
            "49                      Armario     34\n",
            "50           Guitarra eléctrica     33\n"
          ]
        }
      ],
      "source": [
        "ventas_productos_T4 = tienda4['Producto'].value_counts().reset_index()\n",
        "top10_productos_T4 = ventas_productos_T4.head(10)\n",
        "topNmenos10_productos_T4 = ventas_productos_T4.tail(10)\n",
        "print('------------------------------------')\n",
        "print('Top 10 productos mas vendidos Tienda 2')\n",
        "print(top10_productos_T4)\n",
        "print('------------------------------------')\n",
        "print('Top 10 productos menos vendidos Tienda 2')\n",
        "print(topNmenos10_productos_T4)"
      ]
    },
    {
      "cell_type": "code",
      "execution_count": null,
      "metadata": {},
      "outputs": [
        {
          "name": "stdout",
          "output_type": "stream",
          "text": [
            "Promedio de valoracion tienda 1: 4.04\n"
          ]
        }
      ],
      "source": [
        "suma_vlciones_tienda2 = tienda2['Calificación'].sum()\n",
        "vlcion_media_tienda2 = len(tienda2['Calificación'])\n",
        "promedio_valoracion_tienda2 = suma_vlciones_tienda2 / vlcion_media_tienda2\n",
        "print(f'Promedio de valoracion tienda 2: {promedio_valoracion_tienda2:.2f}')"
      ]
    },
    {
      "cell_type": "code",
      "execution_count": null,
      "metadata": {},
      "outputs": [
        {
          "name": "stdout",
          "output_type": "stream",
          "text": [
            "Promedio de valoracion tienda 3: 4.05\n"
          ]
        }
      ],
      "source": [
        "suma_vlciones_tienda3 = tienda3['Calificación'].sum()\n",
        "vlcion_media_tienda3 = len(tienda3['Calificación'])\n",
        "promedio_valoracion_tienda3 = suma_vlciones_tienda3 / vlcion_media_tienda3\n",
        "print(f'Promedio de valoracion tienda 3: {promedio_valoracion_tienda3:.2f}')"
      ]
    },
    {
      "cell_type": "code",
      "execution_count": null,
      "metadata": {},
      "outputs": [
        {
          "name": "stdout",
          "output_type": "stream",
          "text": [
            "Promedio de valoracion tienda 1: 4.00\n"
          ]
        }
      ],
      "source": [
        "suma_vlciones_tienda4 = tienda4['Calificación'].sum()\n",
        "vlcion_media_tienda4 = len(tienda4['Calificación'])\n",
        "promedio_valoracion_tienda4 = suma_vlciones_tienda4 / vlcion_media_tienda4\n",
        "print(f'Promedio de valoracion tienda 1: {promedio_valoracion_tienda4:.2f}')"
      ]
    }
  ],
  "metadata": {
    "colab": {
      "provenance": []
    },
    "kernelspec": {
      "display_name": "Python 3",
      "name": "python3"
    },
    "language_info": {
      "codemirror_mode": {
        "name": "ipython",
        "version": 3
      },
      "file_extension": ".py",
      "mimetype": "text/x-python",
      "name": "python",
      "nbconvert_exporter": "python",
      "pygments_lexer": "ipython3",
      "version": "3.13.3"
    }
  },
  "nbformat": 4,
  "nbformat_minor": 0
}
