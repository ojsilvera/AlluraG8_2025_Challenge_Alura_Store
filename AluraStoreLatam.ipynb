{
  "cells": [
    {
      "cell_type": "markdown",
      "metadata": {
        "id": "RhEdWd9YUR6H"
      },
      "source": [
        "# Importación de datos\n",
        "\n"
      ]
    },
    {
      "cell_type": "markdown",
      "metadata": {},
      "source": [
        "---"
      ]
    },
    {
      "cell_type": "markdown",
      "metadata": {},
      "source": [
        "## Importamos los datos de las respectivas tiendas"
      ]
    },
    {
      "cell_type": "code",
      "execution_count": 2,
      "metadata": {
        "colab": {
          "base_uri": "https://localhost:8080/",
          "height": 206
        },
        "id": "T3EvaeQ_INIL",
        "outputId": "e9c5efe1-82a3-43ab-e8d7-6d01e4fa3514"
      },
      "outputs": [
        {
          "data": {
            "text/html": [
              "<div>\n",
              "<style scoped>\n",
              "    .dataframe tbody tr th:only-of-type {\n",
              "        vertical-align: middle;\n",
              "    }\n",
              "\n",
              "    .dataframe tbody tr th {\n",
              "        vertical-align: top;\n",
              "    }\n",
              "\n",
              "    .dataframe thead th {\n",
              "        text-align: right;\n",
              "    }\n",
              "</style>\n",
              "<table border=\"1\" class=\"dataframe\">\n",
              "  <thead>\n",
              "    <tr style=\"text-align: right;\">\n",
              "      <th></th>\n",
              "      <th>Producto</th>\n",
              "      <th>Categoría del Producto</th>\n",
              "      <th>Precio</th>\n",
              "      <th>Costo de envío</th>\n",
              "      <th>Fecha de Compra</th>\n",
              "      <th>Vendedor</th>\n",
              "      <th>Lugar de Compra</th>\n",
              "      <th>Calificación</th>\n",
              "      <th>Método de pago</th>\n",
              "      <th>Cantidad de cuotas</th>\n",
              "      <th>lat</th>\n",
              "      <th>lon</th>\n",
              "    </tr>\n",
              "  </thead>\n",
              "  <tbody>\n",
              "    <tr>\n",
              "      <th>0</th>\n",
              "      <td>Asistente virtual</td>\n",
              "      <td>Electrónicos</td>\n",
              "      <td>164300.0</td>\n",
              "      <td>6900.0</td>\n",
              "      <td>16/01/2021</td>\n",
              "      <td>Pedro Gomez</td>\n",
              "      <td>Bogotá</td>\n",
              "      <td>4</td>\n",
              "      <td>Tarjeta de crédito</td>\n",
              "      <td>8</td>\n",
              "      <td>4.60971</td>\n",
              "      <td>-74.08175</td>\n",
              "    </tr>\n",
              "    <tr>\n",
              "      <th>1</th>\n",
              "      <td>Mesa de comedor</td>\n",
              "      <td>Muebles</td>\n",
              "      <td>192300.0</td>\n",
              "      <td>8400.0</td>\n",
              "      <td>18/05/2022</td>\n",
              "      <td>Beatriz Morales</td>\n",
              "      <td>Medellín</td>\n",
              "      <td>1</td>\n",
              "      <td>Tarjeta de crédito</td>\n",
              "      <td>4</td>\n",
              "      <td>6.25184</td>\n",
              "      <td>-75.56359</td>\n",
              "    </tr>\n",
              "    <tr>\n",
              "      <th>2</th>\n",
              "      <td>Juego de mesa</td>\n",
              "      <td>Juguetes</td>\n",
              "      <td>209600.0</td>\n",
              "      <td>15900.0</td>\n",
              "      <td>15/03/2021</td>\n",
              "      <td>Juan Fernandez</td>\n",
              "      <td>Cartagena</td>\n",
              "      <td>1</td>\n",
              "      <td>Tarjeta de crédito</td>\n",
              "      <td>1</td>\n",
              "      <td>10.39972</td>\n",
              "      <td>-75.51444</td>\n",
              "    </tr>\n",
              "    <tr>\n",
              "      <th>3</th>\n",
              "      <td>Microondas</td>\n",
              "      <td>Electrodomésticos</td>\n",
              "      <td>757500.0</td>\n",
              "      <td>41000.0</td>\n",
              "      <td>03/05/2022</td>\n",
              "      <td>Juan Fernandez</td>\n",
              "      <td>Cali</td>\n",
              "      <td>4</td>\n",
              "      <td>Nequi</td>\n",
              "      <td>1</td>\n",
              "      <td>3.43722</td>\n",
              "      <td>-76.52250</td>\n",
              "    </tr>\n",
              "    <tr>\n",
              "      <th>4</th>\n",
              "      <td>Silla de oficina</td>\n",
              "      <td>Muebles</td>\n",
              "      <td>335200.0</td>\n",
              "      <td>20200.0</td>\n",
              "      <td>07/11/2020</td>\n",
              "      <td>Maria Alfonso</td>\n",
              "      <td>Medellín</td>\n",
              "      <td>5</td>\n",
              "      <td>Nequi</td>\n",
              "      <td>1</td>\n",
              "      <td>6.25184</td>\n",
              "      <td>-75.56359</td>\n",
              "    </tr>\n",
              "  </tbody>\n",
              "</table>\n",
              "</div>"
            ],
            "text/plain": [
              "            Producto Categoría del Producto    Precio  Costo de envío  \\\n",
              "0  Asistente virtual           Electrónicos  164300.0          6900.0   \n",
              "1    Mesa de comedor                Muebles  192300.0          8400.0   \n",
              "2      Juego de mesa               Juguetes  209600.0         15900.0   \n",
              "3         Microondas      Electrodomésticos  757500.0         41000.0   \n",
              "4   Silla de oficina                Muebles  335200.0         20200.0   \n",
              "\n",
              "  Fecha de Compra         Vendedor Lugar de Compra  Calificación  \\\n",
              "0      16/01/2021      Pedro Gomez          Bogotá             4   \n",
              "1      18/05/2022  Beatriz Morales        Medellín             1   \n",
              "2      15/03/2021   Juan Fernandez       Cartagena             1   \n",
              "3      03/05/2022   Juan Fernandez            Cali             4   \n",
              "4      07/11/2020    Maria Alfonso        Medellín             5   \n",
              "\n",
              "       Método de pago  Cantidad de cuotas       lat       lon  \n",
              "0  Tarjeta de crédito                   8   4.60971 -74.08175  \n",
              "1  Tarjeta de crédito                   4   6.25184 -75.56359  \n",
              "2  Tarjeta de crédito                   1  10.39972 -75.51444  \n",
              "3               Nequi                   1   3.43722 -76.52250  \n",
              "4               Nequi                   1   6.25184 -75.56359  "
            ]
          },
          "execution_count": 2,
          "metadata": {},
          "output_type": "execute_result"
        }
      ],
      "source": [
        "import pandas as pd\n",
        "\n",
        "url = \"https://raw.githubusercontent.com/alura-es-cursos/challenge1-data-science-latam/refs/heads/main/base-de-datos-challenge1-latam/tienda_1%20.csv\"\n",
        "url2 = \"https://raw.githubusercontent.com/alura-es-cursos/challenge1-data-science-latam/refs/heads/main/base-de-datos-challenge1-latam/tienda_2.csv\"\n",
        "url3 = \"https://raw.githubusercontent.com/alura-es-cursos/challenge1-data-science-latam/refs/heads/main/base-de-datos-challenge1-latam/tienda_3.csv\"\n",
        "url4 = \"https://raw.githubusercontent.com/alura-es-cursos/challenge1-data-science-latam/refs/heads/main/base-de-datos-challenge1-latam/tienda_4.csv\"\n",
        "\n",
        "tienda = pd.read_csv(url)\n",
        "tienda2 = pd.read_csv(url2)\n",
        "tienda3 = pd.read_csv(url3)\n",
        "tienda4 = pd.read_csv(url4)\n",
        "\n",
        "tienda.head()"
      ]
    },
    {
      "cell_type": "markdown",
      "metadata": {},
      "source": [
        "# 1 Analisis de los datos segun los requerimientos de negocio"
      ]
    },
    {
      "cell_type": "markdown",
      "metadata": {},
      "source": [
        "---"
      ]
    },
    {
      "cell_type": "markdown",
      "metadata": {},
      "source": [
        "## 1. Análisis de facturación\n",
        "\n"
      ]
    },
    {
      "cell_type": "code",
      "execution_count": 3,
      "metadata": {},
      "outputs": [
        {
          "name": "stdout",
          "output_type": "stream",
          "text": [
            "Ingreso total tienda 1: $1,150,880,400.00\n",
            "Ingreso total tienda 2: $1,116,343,500.00\n",
            "Ingreso total tienda 3: $1,098,019,600.00\n",
            "Ingreso total tienda 4: $1,038,375,700.00\n"
          ]
        }
      ],
      "source": [
        "ingresos_tienda = tienda['Precio'].sum()\n",
        "ingresos_tienda2 = tienda2['Precio'].sum()\n",
        "ingresos_tienda3 = tienda3['Precio'].sum()\n",
        "ingresos_tienda4 = tienda4['Precio'].sum()\n",
        "print(f'Ingreso total tienda 1: ${ingresos_tienda:,.2f}')\n",
        "print(f'Ingreso total tienda 2: ${ingresos_tienda2:,.2f}')\n",
        "print(f'Ingreso total tienda 3: ${ingresos_tienda3:,.2f}')\n",
        "print(f'Ingreso total tienda 4: ${ingresos_tienda4:,.2f}')"
      ]
    },
    {
      "cell_type": "markdown",
      "metadata": {},
      "source": [
        "## 2. Ventas por categoría"
      ]
    },
    {
      "cell_type": "code",
      "execution_count": 4,
      "metadata": {},
      "outputs": [
        {
          "name": "stdout",
          "output_type": "stream",
          "text": [
            "    Categoría del Producto Ventas Formateadas\n",
            "3             Electrónicos     429,493,500.00\n",
            "2        Electrodomésticos     363,685,200.00\n",
            "7                  Muebles     187,633,700.00\n",
            "4   Instrumentos musicales      91,299,000.00\n",
            "1     Deportes y diversión      39,290,000.00\n",
            "5                 Juguetes      17,995,700.00\n",
            "0  Artículos para el hogar      12,698,400.00\n",
            "6                   Libros       8,784,900.00\n"
          ]
        }
      ],
      "source": [
        "#Agrupa las ventas por categoria tienda 1\n",
        "vtas_categoria_tienda = tienda.groupby('Categoría del Producto')['Precio'].sum().reset_index()\n",
        "\n",
        "#renombra la columna de precio a ventas para que sea mas descriptiva\n",
        "vtas_categoria_tienda.rename(columns={'Precio': 'Ventas'}, inplace=True)\n",
        "\n",
        "#formatea la columna de ventas para que tenga el formato de moneda y separador decimal\n",
        "vtas_categoria_tienda['Ventas Formateadas'] = vtas_categoria_tienda['Ventas'].apply(lambda x: f'{x:,.2f}')\n",
        "\n",
        "#ordena la tabla por ventas de mayor a menor\n",
        "vtasCat_Tienda1_sorter = vtas_categoria_tienda.sort_values(by='Ventas', ascending=False, inplace=False)\n",
        "\n",
        "#imprime la tabla de ventas por categoria\n",
        "print(vtasCat_Tienda1_sorter[['Categoría del Producto', 'Ventas Formateadas']])"
      ]
    },
    {
      "cell_type": "code",
      "execution_count": 5,
      "metadata": {},
      "outputs": [
        {
          "name": "stdout",
          "output_type": "stream",
          "text": [
            "    Categoría del Producto Ventas Formateadas\n",
            "3             Electrónicos     410,831,100.00\n",
            "2        Electrodomésticos     348,567,800.00\n",
            "7                  Muebles     176,426,300.00\n",
            "4   Instrumentos musicales     104,990,300.00\n",
            "1     Deportes y diversión      34,744,500.00\n",
            "5                 Juguetes      15,945,400.00\n",
            "0  Artículos para el hogar      14,746,900.00\n",
            "6                   Libros      10,091,200.00\n"
          ]
        }
      ],
      "source": [
        "#Agrupa las ventas por categoria tienda 2\n",
        "vtas_categoria_tienda2 = tienda2.groupby('Categoría del Producto')['Precio'].sum().reset_index()\n",
        "\n",
        "#renombra la columna de precio a ventas para que sea mas descriptiva\n",
        "vtas_categoria_tienda2.rename(columns={'Precio': 'Ventas'}, inplace=True)\n",
        "\n",
        "#formatea la columna de ventas para que tenga el formato de moneda y separador decimal\n",
        "vtas_categoria_tienda2['Ventas Formateadas'] = vtas_categoria_tienda2['Ventas'].apply(lambda x: f'{x:,.2f}')\n",
        "\n",
        "#ordena la tabla por ventas de mayor a menor\n",
        "vtasCat_Tienda2_sorter = vtas_categoria_tienda2.sort_values(by='Ventas', ascending=False, inplace=False)\n",
        "\n",
        "#imprime la tabla de ventas por categoria\n",
        "print(vtasCat_Tienda2_sorter[['Categoría del Producto', 'Ventas Formateadas']])"
      ]
    },
    {
      "cell_type": "code",
      "execution_count": 6,
      "metadata": {},
      "outputs": [
        {
          "name": "stdout",
          "output_type": "stream",
          "text": [
            "    Categoría del Producto Ventas Formateadas\n",
            "3             Electrónicos     410,775,800.00\n",
            "2        Electrodomésticos     329,237,900.00\n",
            "7                  Muebles     201,072,100.00\n",
            "4   Instrumentos musicales      77,380,900.00\n",
            "1     Deportes y diversión      35,593,100.00\n",
            "5                 Juguetes      19,401,100.00\n",
            "0  Artículos para el hogar      15,060,000.00\n",
            "6                   Libros       9,498,700.00\n"
          ]
        }
      ],
      "source": [
        "#Agrupa las ventas por categoria tienda 3\n",
        "vtas_categoria_tienda3 = tienda3.groupby('Categoría del Producto')['Precio'].sum().reset_index()\n",
        "\n",
        "#renombra la columna de precio a ventas para que sea mas descriptiva\n",
        "vtas_categoria_tienda3.rename(columns={'Precio': 'Ventas'}, inplace=True)\n",
        "\n",
        "#formatea la columna de ventas para que tenga el formato de moneda y separador decimal\n",
        "vtas_categoria_tienda3['Ventas Formateadas'] = vtas_categoria_tienda3['Ventas'].apply(lambda x: f'{x:,.2f}')\n",
        "\n",
        "#ordena la tabla por ventas de mayor a menor\n",
        "vtasCat_Tienda3_sorter = vtas_categoria_tienda3.sort_values(by='Ventas', ascending=False, inplace=False)\n",
        "\n",
        "#imprime la tabla de ventas por categoria\n",
        "print(vtasCat_Tienda3_sorter[['Categoría del Producto', 'Ventas Formateadas']])"
      ]
    },
    {
      "cell_type": "code",
      "execution_count": 7,
      "metadata": {},
      "outputs": [
        {
          "name": "stdout",
          "output_type": "stream",
          "text": [
            "    Categoría del Producto Ventas Formateadas\n",
            "3             Electrónicos     409,476,100.00\n",
            "2        Electrodomésticos     283,260,200.00\n",
            "7                  Muebles     192,528,900.00\n",
            "4   Instrumentos musicales      75,102,400.00\n",
            "1     Deportes y diversión      33,350,100.00\n",
            "5                 Juguetes      20,262,200.00\n",
            "0  Artículos para el hogar      15,074,500.00\n",
            "6                   Libros       9,321,300.00\n"
          ]
        }
      ],
      "source": [
        "#Agrupa las ventas por categoria tienda 4\n",
        "vtas_categoria_tienda4 = tienda4.groupby('Categoría del Producto')['Precio'].sum().reset_index()\n",
        "\n",
        "#renombra la columna de precio a ventas para que sea mas descriptiva\n",
        "vtas_categoria_tienda4.rename(columns={'Precio': 'Ventas'}, inplace=True)\n",
        "\n",
        "#formatea la columna de ventas para que tenga el formato de moneda y separador decimal\n",
        "vtas_categoria_tienda4['Ventas Formateadas'] = vtas_categoria_tienda4['Ventas'].apply(lambda x: f'{x:,.2f}')\n",
        "\n",
        "#ordena la tabla por ventas de mayor a menor\n",
        "vtasCat_Tienda4_sorter = vtas_categoria_tienda4.sort_values(by='Ventas', ascending=False, inplace=False)\n",
        "\n",
        "#imprime la tabla de ventas por categoria\n",
        "print(vtasCat_Tienda4_sorter[['Categoría del Producto', 'Ventas Formateadas']])"
      ]
    },
    {
      "cell_type": "markdown",
      "metadata": {},
      "source": [
        "## 3. Calificación promedio de la tienda\n"
      ]
    },
    {
      "cell_type": "code",
      "execution_count": 8,
      "metadata": {},
      "outputs": [
        {
          "name": "stdout",
          "output_type": "stream",
          "text": [
            "Promedio de valoracion tienda: 3.98\n"
          ]
        }
      ],
      "source": [
        "suma_vlciones_tienda = tienda['Calificación'].sum()\n",
        "vlcion_media_tienda = len(tienda['Calificación'])\n",
        "promedio_valoracion_tienda = suma_vlciones_tienda / vlcion_media_tienda\n",
        "print(f'Promedio de valoracion tienda: {promedio_valoracion_tienda:.2f}')"
      ]
    },
    {
      "cell_type": "code",
      "execution_count": 9,
      "metadata": {},
      "outputs": [
        {
          "name": "stdout",
          "output_type": "stream",
          "text": [
            "Promedio de valoracion tienda 2: 4.04\n"
          ]
        }
      ],
      "source": [
        "suma_vlciones_tienda2 = tienda2['Calificación'].sum()\n",
        "vlcion_media_tienda2 = len(tienda2['Calificación'])\n",
        "promedio_valoracion_tienda2 = suma_vlciones_tienda2 / vlcion_media_tienda2\n",
        "print(f'Promedio de valoracion tienda 2: {promedio_valoracion_tienda2:.2f}')"
      ]
    },
    {
      "cell_type": "code",
      "execution_count": 10,
      "metadata": {},
      "outputs": [
        {
          "name": "stdout",
          "output_type": "stream",
          "text": [
            "Promedio de valoracion tienda 3: 4.05\n"
          ]
        }
      ],
      "source": [
        "suma_vlciones_tienda3 = tienda3['Calificación'].sum()\n",
        "vlcion_media_tienda3 = len(tienda3['Calificación'])\n",
        "promedio_valoracion_tienda3 = suma_vlciones_tienda3 / vlcion_media_tienda3\n",
        "print(f'Promedio de valoracion tienda 3: {promedio_valoracion_tienda3:.2f}')"
      ]
    },
    {
      "cell_type": "code",
      "execution_count": 11,
      "metadata": {},
      "outputs": [
        {
          "name": "stdout",
          "output_type": "stream",
          "text": [
            "Promedio de valoracion tienda 1: 4.00\n"
          ]
        }
      ],
      "source": [
        "suma_vlciones_tienda4 = tienda4['Calificación'].sum()\n",
        "vlcion_media_tienda4 = len(tienda4['Calificación'])\n",
        "promedio_valoracion_tienda4 = suma_vlciones_tienda4 / vlcion_media_tienda4\n",
        "print(f'Promedio de valoracion tienda 1: {promedio_valoracion_tienda4:.2f}')"
      ]
    },
    {
      "cell_type": "markdown",
      "metadata": {},
      "source": [
        "## 4. Productos más y menos vendidos"
      ]
    },
    {
      "cell_type": "code",
      "execution_count": 12,
      "metadata": {},
      "outputs": [
        {
          "name": "stdout",
          "output_type": "stream",
          "text": [
            "------------------------------------\n",
            "Top 10 productos mas vendidos Tienda 1\n",
            "                  Producto  count\n",
            "0               Microondas     60\n",
            "1            TV LED UHD 4K     60\n",
            "2                  Armario     60\n",
            "3         Secadora de ropa     58\n",
            "4            Mesa de noche     56\n",
            "5  Bloques de construcción     56\n",
            "6      Balón de baloncesto     55\n",
            "7                Bicicleta     54\n",
            "8             Vaso térmico     54\n",
            "9             Refrigerador     54\n",
            "------------------------------------\n",
            "Top 10 productos menos vendidos Tienda 1\n",
            "                       Producto  count\n",
            "41                  Muñeca bebé     40\n",
            "42              Mesa de comedor     40\n",
            "43               Dinosaurio Rex     40\n",
            "44           Cuerda para saltar     40\n",
            "45                      Mochila     39\n",
            "46  Ciencia de datos con Python     39\n",
            "47                    Pandereta     36\n",
            "48              Olla de presión     35\n",
            "49    Auriculares con micrófono     33\n",
            "50                 Celular ABXY     33\n"
          ]
        }
      ],
      "source": [
        "ventas_productos_T1 = tienda['Producto'].value_counts().reset_index()\n",
        "top10_productos_T1 = ventas_productos_T1.head(10)\n",
        "topNmenos10_productos = ventas_productos_T1.tail(10)\n",
        "print('------------------------------------')\n",
        "print('Top 10 productos mas vendidos Tienda 1')\n",
        "print(top10_productos_T1)\n",
        "print('------------------------------------')\n",
        "print('Top 10 productos menos vendidos Tienda 1')\n",
        "print(topNmenos10_productos)"
      ]
    },
    {
      "cell_type": "code",
      "execution_count": 13,
      "metadata": {},
      "outputs": [
        {
          "name": "stdout",
          "output_type": "stream",
          "text": [
            "------------------------------------\n",
            "Top 10 productos mas vendidos Tienda 2\n",
            "                    Producto  count\n",
            "0  Iniciando en programación     65\n",
            "1                 Microondas     62\n",
            "2                    Batería     61\n",
            "3          Guitarra acústica     58\n",
            "4                  Pandereta     58\n",
            "5           Secadora de ropa     57\n",
            "6                  Iphone 15     55\n",
            "7    Bloques de construcción     54\n",
            "8                    Armario     54\n",
            "9               Set de ollas     52\n",
            "------------------------------------\n",
            "Top 10 productos menos vendidos Tienda 2\n",
            "             Producto  count\n",
            "41     Dinosaurio Rex     42\n",
            "42       Celular ABXY     41\n",
            "43           Smart TV     40\n",
            "44         Cubertería     39\n",
            "45  Asistente virtual     38\n",
            "46        Auriculares     37\n",
            "47             Sillón     35\n",
            "48    Mesa de comedor     34\n",
            "49          Impresora     34\n",
            "50      Juego de mesa     32\n"
          ]
        }
      ],
      "source": [
        "ventas_productos_T2 = tienda2['Producto'].value_counts().reset_index()\n",
        "top10_productos_T2 = ventas_productos_T2.head(10)\n",
        "topNmenos10_productos_T2 = ventas_productos_T2.tail(10)\n",
        "print('------------------------------------')\n",
        "print('Top 10 productos mas vendidos Tienda 2')\n",
        "print(top10_productos_T2)\n",
        "print('------------------------------------')\n",
        "print('Top 10 productos menos vendidos Tienda 2')\n",
        "print(topNmenos10_productos_T2)"
      ]
    },
    {
      "cell_type": "code",
      "execution_count": 14,
      "metadata": {},
      "outputs": [
        {
          "name": "stdout",
          "output_type": "stream",
          "text": [
            "------------------------------------\n",
            "Top 10 productos mas vendidos Tienda 3\n",
            "                    Producto  count\n",
            "0              Kit de bancas     57\n",
            "1            Mesa de comedor     56\n",
            "2                  Cama king     56\n",
            "3               Set de ollas     55\n",
            "4              Mesa de noche     55\n",
            "5                   Smart TV     54\n",
            "6                     Estufa     53\n",
            "7         Cuerda para saltar     53\n",
            "8        Modelado predictivo     53\n",
            "9  Carrito de control remoto     52\n",
            "------------------------------------\n",
            "Top 10 productos menos vendidos Tienda 3\n",
            "                     Producto  count\n",
            "41                 Cubertería     39\n",
            "42                Muñeca bebé     39\n",
            "43  Auriculares con micrófono     39\n",
            "44          Asistente virtual     39\n",
            "45               Vaso térmico     38\n",
            "46         Guitarra eléctrica     38\n",
            "47               Set de vasos     36\n",
            "48                    Mochila     36\n",
            "49                 Microondas     36\n",
            "50    Bloques de construcción     35\n"
          ]
        }
      ],
      "source": [
        "ventas_productos_T3 = tienda3['Producto'].value_counts().reset_index()\n",
        "top10_productos_T3 = ventas_productos_T3.head(10)\n",
        "topNmenos10_productos_T3 = ventas_productos_T3.tail(10)\n",
        "print('------------------------------------')\n",
        "print('Top 10 productos mas vendidos Tienda 3')\n",
        "print(top10_productos_T3)\n",
        "print('------------------------------------')\n",
        "print('Top 10 productos menos vendidos Tienda 3')\n",
        "print(topNmenos10_productos_T3)"
      ]
    },
    {
      "cell_type": "code",
      "execution_count": 15,
      "metadata": {},
      "outputs": [
        {
          "name": "stdout",
          "output_type": "stream",
          "text": [
            "------------------------------------\n",
            "Top 10 productos mas vendidos Tienda 2\n",
            "                    Producto  count\n",
            "0                   Cama box     62\n",
            "1                 Cubertería     59\n",
            "2    Dashboards con Power BI     56\n",
            "3                  Cama king     56\n",
            "4  Carrito de control remoto     55\n",
            "5            Mesa de comedor     55\n",
            "6              Mesa de noche     55\n",
            "7                   Smart TV     54\n",
            "8    Bloques de construcción     54\n",
            "9                  Pandereta     52\n",
            "------------------------------------\n",
            "Top 10 productos menos vendidos Tienda 2\n",
            "                       Producto  count\n",
            "41             Silla de oficina     40\n",
            "42                 Celular ABXY     39\n",
            "43            Ajedrez de madera     39\n",
            "44                   Smartwatch     39\n",
            "45             Lavadora de ropa     38\n",
            "46                 Refrigerador     38\n",
            "47  Ciencia de datos con Python     38\n",
            "48            Guitarra acústica     37\n",
            "49                      Armario     34\n",
            "50           Guitarra eléctrica     33\n"
          ]
        }
      ],
      "source": [
        "ventas_productos_T4 = tienda4['Producto'].value_counts().reset_index()\n",
        "top10_productos_T4 = ventas_productos_T4.head(10)\n",
        "topNmenos10_productos_T4 = ventas_productos_T4.tail(10)\n",
        "print('------------------------------------')\n",
        "print('Top 10 productos mas vendidos Tienda 2')\n",
        "print(top10_productos_T4)\n",
        "print('------------------------------------')\n",
        "print('Top 10 productos menos vendidos Tienda 2')\n",
        "print(topNmenos10_productos_T4)"
      ]
    },
    {
      "cell_type": "markdown",
      "metadata": {},
      "source": [
        "## 5. Envío promedio por tienda"
      ]
    },
    {
      "cell_type": "code",
      "execution_count": 16,
      "metadata": {},
      "outputs": [
        {
          "name": "stdout",
          "output_type": "stream",
          "text": [
            "Promedio de costo de envios tienda 1: 26,018.61\n"
          ]
        }
      ],
      "source": [
        "costo_total_evio_T1 = tienda['Costo de envío'].sum()\n",
        "cantidad_encvios_T1 = len(tienda['Costo de envío'])\n",
        "promedio_envios_T1 = costo_total_evio_T1 / cantidad_encvios_T1\n",
        "print(f'Promedio de costo de envios tienda 1: {promedio_envios_T1:,.2f}')\n"
      ]
    },
    {
      "cell_type": "code",
      "execution_count": 17,
      "metadata": {},
      "outputs": [
        {
          "name": "stdout",
          "output_type": "stream",
          "text": [
            "Promedio de costo de envios tienda 3: 25,216.24\n"
          ]
        }
      ],
      "source": [
        "costo_total_evio_T2 = tienda2['Costo de envío'].sum()\n",
        "cantidad_encvios_T2 = len(tienda2['Costo de envío'])\n",
        "promedio_envios_T2 = costo_total_evio_T2 / cantidad_encvios_T2\n",
        "print(f'Promedio de costo de envios tienda 3: {promedio_envios_T2:,.2f}')"
      ]
    },
    {
      "cell_type": "code",
      "execution_count": 18,
      "metadata": {},
      "outputs": [
        {
          "name": "stdout",
          "output_type": "stream",
          "text": [
            "Promedio de costo de envios tienda 3: 24,805.68\n"
          ]
        }
      ],
      "source": [
        "costo_total_evio_T3 = tienda3['Costo de envío'].sum()\n",
        "cantidad_encvios_T3 = len(tienda3['Costo de envío'])\n",
        "promedio_envios_T3 = costo_total_evio_T3 / cantidad_encvios_T3\n",
        "print(f'Promedio de costo de envios tienda 3: {promedio_envios_T3:,.2f}')"
      ]
    },
    {
      "cell_type": "code",
      "execution_count": 19,
      "metadata": {},
      "outputs": [
        {
          "name": "stdout",
          "output_type": "stream",
          "text": [
            "Promedio de costo de envios tienda 4: 23,459.46\n"
          ]
        }
      ],
      "source": [
        "costo_total_evio_T4 = tienda4['Costo de envío'].sum()\n",
        "cantidad_encvios_T4 = len(tienda4['Costo de envío'])\n",
        "promedio_envios_T4 = costo_total_evio_T4 / cantidad_encvios_T4\n",
        "print(f'Promedio de costo de envios tienda 4: {promedio_envios_T4:,.2f}')"
      ]
    },
    {
      "cell_type": "markdown",
      "metadata": {},
      "source": [
        "----"
      ]
    },
    {
      "cell_type": "markdown",
      "metadata": {},
      "source": [
        "# 2. Visualizaciones grafica de los resultados obtenidos en el analisis"
      ]
    },
    {
      "cell_type": "markdown",
      "metadata": {},
      "source": [
        "---"
      ]
    },
    {
      "cell_type": "markdown",
      "metadata": {},
      "source": [
        "### A continuacion se muestra graficamente los hallazgos obtenidos del analisis de datos anterior, dibiendo esta seccion en 2 partes, por un lado una consolidacion total de los resultados y por otra los graficos obtenidos a partir de los datos que ayudaran a sustentar los posibles escenarios de decision para el sr juan"
      ]
    },
    {
      "cell_type": "markdown",
      "metadata": {},
      "source": [
        "### 2.1. Consolidatorio de los Análisis"
      ]
    },
    {
      "cell_type": "code",
      "execution_count": 20,
      "metadata": {},
      "outputs": [],
      "source": [
        "import pandas as pd\n",
        "\n",
        "analisisFacturacion = pd.DataFrame({\n",
        "    'Tienda': ['Tienda 1', 'Tienda 2', 'Tienda 3', 'Tienda 4'],\n",
        "    'Ingreso Total': [ingresos_tienda, ingresos_tienda2, ingresos_tienda3, ingresos_tienda4],\n",
        "})\n",
        "\n",
        "analisisValoracion = pd.DataFrame({\n",
        "    'Tienda': ['Tienda 1', 'Tienda 2', 'Tienda 3', 'Tienda 4'],\n",
        "    'Promedio Valoracion': [promedio_valoracion_tienda, promedio_valoracion_tienda2, promedio_valoracion_tienda3, promedio_valoracion_tienda4]\n",
        "})\n",
        "\n",
        "analisisEnvios = pd.DataFrame({\n",
        "    'Tienda': ['Tienda 1', 'Tienda 2', 'Tienda 3', 'Tienda 4'],\n",
        "    'Promedio Costo Envio': [promedio_envios_T1, promedio_envios_T2, promedio_envios_T3, promedio_envios_T4]\n",
        "})\n",
        "\n",
        "# crear un data set tipo diccionario con la salida de las ventasXcategoria formateadas, adicionando el nombre de la tienda a la que pertenece.\n",
        "\n",
        "numRegs = len(vtasCat_Tienda1_sorter['Categoría del Producto'])\n",
        "numRegs2 = len(vtasCat_Tienda2_sorter['Categoría del Producto'])\n",
        "numRegs3 = len(vtasCat_Tienda3_sorter['Categoría del Producto'])\n",
        "numRegs4 = len(vtasCat_Tienda4_sorter['Categoría del Producto'])\n",
        "\n",
        "analisisVentasCategoria = pd.DataFrame({\n",
        "    'Tienda': ['Tienda 1'] * numRegs + ['Tienda 2'] * numRegs2 + ['Tienda 3'] * numRegs3 + ['Tienda 4'] * numRegs4,\n",
        "    'Categoría del Producto': list(vtasCat_Tienda1_sorter['Categoría del Producto']) + list(vtasCat_Tienda2_sorter['Categoría del Producto']) +\n",
        "                            list(vtasCat_Tienda3_sorter['Categoría del Producto']) + list(vtasCat_Tienda4_sorter['Categoría del Producto']),\n",
        "    'Ventas Formateadas': list(vtasCat_Tienda1_sorter['Ventas Formateadas']) + list(vtasCat_Tienda2_sorter['Ventas Formateadas']) +\n",
        "                        list(vtasCat_Tienda3_sorter['Ventas Formateadas']) + list(vtasCat_Tienda4_sorter['Ventas Formateadas'])\n",
        "})\n",
        "\n",
        "# crear dos df con la consolidacion de los top 10 productos mas vendidos y menos vendidos por tienda\n",
        "top10_productos = pd.DataFrame({\n",
        "    'Tienda': ['Tienda 1'] * len(top10_productos_T1) + ['Tienda 2'] * len(top10_productos_T2) +\n",
        "              ['Tienda 3'] * len(top10_productos_T3) + ['Tienda 4'] * len(top10_productos_T4),\n",
        "    'Producto': list(top10_productos_T1['Producto']) + list(top10_productos_T2['Producto']) +\n",
        "                list(top10_productos_T3['Producto']) + list(top10_productos_T4['Producto']),\n",
        "    'Cantidad Vendida': list(top10_productos_T1['count']) + list(top10_productos_T2['count']) +\n",
        "                        list(top10_productos_T3['count']) + list(top10_productos_T4['count'])\n",
        "})\n",
        "\n",
        "topNmenos10_productos = pd.DataFrame({\n",
        "    'Tienda': ['Tienda 1'] * len(topNmenos10_productos) + ['Tienda 2'] * len(topNmenos10_productos_T2) +\n",
        "              ['Tienda 3'] * len(topNmenos10_productos_T3) + ['Tienda 4'] * len(topNmenos10_productos_T4),\n",
        "    'Producto': list(topNmenos10_productos['Producto']) + list(topNmenos10_productos_T2['Producto']) +\n",
        "                list(topNmenos10_productos_T3['Producto']) + list(topNmenos10_productos_T4['Producto']),\n",
        "    'Cantidad Vendida': list(topNmenos10_productos['count']) + list(topNmenos10_productos_T2['count']) +\n",
        "                        list(topNmenos10_productos_T3['count']) + list(topNmenos10_productos_T4['count'])\n",
        "})"
      ]
    },
    {
      "cell_type": "markdown",
      "metadata": {},
      "source": [
        "### 2.2 Muestra graficas de los resultados"
      ]
    },
    {
      "cell_type": "markdown",
      "metadata": {},
      "source": [
        "#### Ingreso total por tienda"
      ]
    },
    {
      "cell_type": "code",
      "execution_count": 21,
      "metadata": {},
      "outputs": [
        {
          "data": {
            "image/png": "[encoded data removed]",
            "text/plain": [
              "<Figure size 800x500 with 1 Axes>"
            ]
          },
          "metadata": {},
          "output_type": "display_data"
        }
      ],
      "source": [
        "# importamos la libreria matplotlib para graficar\n",
        "import matplotlib.pyplot as plt\n",
        "\n",
        "# muestra el grafico justo debajo de la celda solo funciona en Jupyter Notebook, evita la generacion en ventana emergente\n",
        "%matplotlib inline\n",
        "\n",
        "# configuramos los graficos para que se muestren en el notebook\n",
        "plt.rcParams['figure.figsize'] = [10, 6]\n",
        "plt.rcParams['figure.dpi'] = 100\n",
        "\n",
        "# Crear gráfico de barras\n",
        "plt.figure(figsize=(8, 5))\n",
        "plt.bar(analisisFacturacion['Tienda'], analisisFacturacion['Ingreso Total'], color='skyblue')\n",
        "\n",
        "# Añadir etiquetas y título\n",
        "plt.title('Ingreso Total por Tienda')\n",
        "plt.xlabel('Tienda')\n",
        "plt.ylabel('Ingreso Total')\n",
        "plt.xticks(rotation=45)  # Rotar etiquetas si hay muchas tiendas\n",
        "\n",
        "# Mostrar valores encima de cada barra\n",
        "for i, valor in enumerate(analisisFacturacion['Ingreso Total']):\n",
        "    plt.text(i, valor, f'{valor:,.0f}', ha='center', va='bottom')\n",
        "\n",
        "# Mostrar gráfico\n",
        "plt.tight_layout()\n",
        "plt.show()"
      ]
    },
    {
      "cell_type": "markdown",
      "metadata": {},
      "source": [
        "#### Ventas por categoría"
      ]
    },
    {
      "cell_type": "code",
      "execution_count": 25,
      "metadata": {},
      "outputs": [
        {
          "data": {
            "image/png": "[encoded data removed]",
            "text/plain": [
              "<Figure size 2000x500 with 4 Axes>"
            ]
          },
          "metadata": {},
          "output_type": "display_data"
        }
      ],
      "source": [
        "import matplotlib.pyplot as plt\n",
        "\n",
        "# Obtener las tiendas únicas\n",
        "tiendas = analisisVentasCategoria['Tienda'].unique()\n",
        "\n",
        "# Crear subplots (1 fila, N columnas)\n",
        "fig, axs = plt.subplots(1, len(tiendas), figsize=(5 * len(tiendas), 5), sharey=True)\n",
        "\n",
        "# Si solo hay una tienda, axs no será una lista → convertirlo en lista\n",
        "if len(tiendas) == 1:\n",
        "    axs = [axs]\n",
        "\n",
        "# Crear gráfico por tienda\n",
        "for i, tienda in enumerate(tiendas):\n",
        "    df_tienda = analisisVentasCategoria[analisisVentasCategoria['Tienda'] == tienda]\n",
        "    axs[i].bar(df_tienda['Categoría del Producto'], df_tienda['Ventas Numéricas'], color='skyblue')\n",
        "    axs[i].set_title(tienda)\n",
        "    axs[i].set_xlabel('Categoría')\n",
        "    axs[i].tick_params(axis='x', rotation=45)\n",
        "\n",
        "axs[0].set_ylabel('Ventas Numéricas')\n",
        "fig.suptitle('Ventas por Categoría en Cada Tienda', fontsize=16)\n",
        "plt.tight_layout()\n",
        "plt.show()"
      ]
    },
    {
      "cell_type": "markdown",
      "metadata": {},
      "source": [
        "#### Calificación promedio de la tienda"
      ]
    },
    {
      "cell_type": "code",
      "execution_count": null,
      "metadata": {},
      "outputs": [],
      "source": []
    },
    {
      "cell_type": "markdown",
      "metadata": {},
      "source": [
        "#### Productos mas y menos vendidos"
      ]
    },
    {
      "cell_type": "code",
      "execution_count": null,
      "metadata": {},
      "outputs": [],
      "source": []
    },
    {
      "cell_type": "markdown",
      "metadata": {},
      "source": [
        "#### Envio promedio por tienda"
      ]
    },
    {
      "cell_type": "code",
      "execution_count": null,
      "metadata": {},
      "outputs": [],
      "source": []
    },
    {
      "cell_type": "markdown",
      "metadata": {},
      "source": [
        "# 6. Conclusiones"
      ]
    },
    {
      "cell_type": "markdown",
      "metadata": {},
      "source": [
        "#### A continuacion se muestran las conclusiones del analisis, basado en los datos suministrados por el cliente y los patrones mostrados a traves de los graficos generados con dichos datos."
      ]
    }
  ],
  "metadata": {
    "colab": {
      "provenance": []
    },
    "kernelspec": {
      "display_name": "Python 3",
      "name": "python3"
    },
    "language_info": {
      "codemirror_mode": {
        "name": "ipython",
        "version": 3
      },
      "file_extension": ".py",
      "mimetype": "text/x-python",
      "name": "python",
      "nbconvert_exporter": "python",
      "pygments_lexer": "ipython3",
      "version": "3.13.3"
    }
  },
  "nbformat": 4,
  "nbformat_minor": 0
}
